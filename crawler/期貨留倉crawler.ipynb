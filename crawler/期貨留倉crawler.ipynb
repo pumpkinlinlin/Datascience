{
 "cells": [
  {
   "cell_type": "code",
   "execution_count": 38,
   "metadata": {},
   "outputs": [],
   "source": [
    "import requests\n",
    "from bs4 import BeautifulSoup"
   ]
  },
  {
   "cell_type": "code",
   "execution_count": 39,
   "metadata": {},
   "outputs": [],
   "source": [
    "from urllib.request import urlopen\n",
    "html = urlopen('https://www.wantgoo.com/stock/futures/futurestop10').read().decode('utf-8')\n",
    "#打開要爬的網頁"
   ]
  },
  {
   "cell_type": "code",
   "execution_count": 94,
   "metadata": {},
   "outputs": [],
   "source": [
    "import gspread\n",
    "from oauth2client.service_account import ServiceAccountCredentials as SAC\n",
    "scope = ['https://spreadsheets.google.com/feeds','https://www.googleapis.com/auth/drive']\n",
    "key = SAC.from_json_keyfile_name('C:\\\\Users\\\\林郁鈞\\\\Desktop\\\\datascience\\\\crawler\\\\data-finance.json', scope)\n",
    "gc = gspread.authorize(key)\n",
    "wks = gc.open_by_url('https://docs.google.com/spreadsheets/d/18gBUxNF5M0zE6b_wD40h9_YJcxe5SWT1dv_Mrg03TcE/edit#gid=0').sheet1\n",
    "#將code連上spreadsheet，其中需要一些憑證，並打開它，然後url打開.sheet1，後面wks步驟是為了一鍵打開\n",
    "\n"
   ]
  },
  {
   "cell_type": "code",
   "execution_count": 108,
   "metadata": {},
   "outputs": [],
   "source": [
    "import re #正則表達，後來沒用到\n",
    "import pygsheets #有gspread即可，這個沒用到\n",
    "\n",
    "from bs4 import BeautifulSoup\n",
    "import pandas as pd\n",
    "import numpy as np\n",
    "soup = BeautifulSoup(html,'lxml') #先把整個網頁的html吃下去\n",
    "#到網頁找到要的部分，右鍵檢查\n",
    "target = soup.find_all('td')    #這裡td就是我們要找的數字的地方\n",
    "                                #如果要CSS篩選，find_all('font',{篩選的項目:裡面有的東西})\n",
    "                                \n",
    "target1 = [] #讓target只剩數字，用成新的list:target1\n",
    "for t in target:\n",
    "    text = t.get_text()#.get_text()超重要!!它可以只顯示中間的文字數字，找很久\n",
    "    target1.append(text)\n",
    "t2 =[] #把target1切成一天一份的很多個list，在加進t2這個大list\n",
    "for i in range(0,463,16): #只抓target1的第一部分，近月大額交易人的部分\n",
    "         t2.append(target1[i:i+16])\n"
   ]
  },
  {
   "cell_type": "code",
   "execution_count": 109,
   "metadata": {},
   "outputs": [],
   "source": [
    "for i in range(0,int(464/16)): #一天一份的小list一列一列加入(用append_row)到worksheet\n",
    "    wks.append_row(t2[i]) "
   ]
  },
  {
   "cell_type": "code",
   "execution_count": null,
   "metadata": {},
   "outputs": [],
   "source": []
  },
  {
   "cell_type": "code",
   "execution_count": null,
   "metadata": {},
   "outputs": [],
   "source": []
  }
 ],
 "metadata": {
  "kernelspec": {
   "display_name": "Python 3",
   "language": "python",
   "name": "python3"
  },
  "language_info": {
   "codemirror_mode": {
    "name": "ipython",
    "version": 3
   },
   "file_extension": ".py",
   "mimetype": "text/x-python",
   "name": "python",
   "nbconvert_exporter": "python",
   "pygments_lexer": "ipython3",
   "version": "3.7.1"
  }
 },
 "nbformat": 4,
 "nbformat_minor": 2
}
